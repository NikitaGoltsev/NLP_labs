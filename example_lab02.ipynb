{
 "cells": [
  {
   "cell_type": "code",
   "execution_count": 2,
   "id": "strong-chair",
   "metadata": {
    "scrolled": true
   },
   "outputs": [
    {
     "name": "stderr",
     "output_type": "stream",
     "text": [
      "/home/marie/newenv/lib/python3.8/site-packages/sklearn/feature_extraction/image.py:167: DeprecationWarning: `np.int` is a deprecated alias for the builtin `int`. To silence this warning, use `int` by itself. Doing this will not modify any behavior and is safe. When replacing `np.int`, you may wish to use e.g. `np.int64` or `np.int32` to specify the precision. If you wish to review your current use, check the release note link for additional information.\n",
      "Deprecated in NumPy 1.20; for more details and guidance: https://numpy.org/devdocs/release/1.20.0-notes.html#deprecations\n",
      "  dtype=np.int):\n",
      "/home/marie/newenv/lib/python3.8/site-packages/sklearn/utils/multiclass.py:13: DeprecationWarning: Please use `spmatrix` from the `scipy.sparse` namespace, the `scipy.sparse.base` namespace is deprecated.\n",
      "  from scipy.sparse.base import spmatrix\n",
      "/home/marie/newenv/lib/python3.8/site-packages/sklearn/linear_model/least_angle.py:30: DeprecationWarning: `np.float` is a deprecated alias for the builtin `float`. To silence this warning, use `float` by itself. Doing this will not modify any behavior and is safe. If you specifically wanted the numpy scalar type, use `np.float64` here.\n",
      "Deprecated in NumPy 1.20; for more details and guidance: https://numpy.org/devdocs/release/1.20.0-notes.html#deprecations\n",
      "  method='lar', copy_X=True, eps=np.finfo(np.float).eps,\n",
      "/home/marie/newenv/lib/python3.8/site-packages/sklearn/linear_model/least_angle.py:167: DeprecationWarning: `np.float` is a deprecated alias for the builtin `float`. To silence this warning, use `float` by itself. Doing this will not modify any behavior and is safe. If you specifically wanted the numpy scalar type, use `np.float64` here.\n",
      "Deprecated in NumPy 1.20; for more details and guidance: https://numpy.org/devdocs/release/1.20.0-notes.html#deprecations\n",
      "  method='lar', copy_X=True, eps=np.finfo(np.float).eps,\n",
      "/home/marie/newenv/lib/python3.8/site-packages/sklearn/linear_model/least_angle.py:284: DeprecationWarning: `np.float` is a deprecated alias for the builtin `float`. To silence this warning, use `float` by itself. Doing this will not modify any behavior and is safe. If you specifically wanted the numpy scalar type, use `np.float64` here.\n",
      "Deprecated in NumPy 1.20; for more details and guidance: https://numpy.org/devdocs/release/1.20.0-notes.html#deprecations\n",
      "  eps=np.finfo(np.float).eps, copy_Gram=True, verbose=0,\n",
      "/home/marie/newenv/lib/python3.8/site-packages/sklearn/linear_model/least_angle.py:862: DeprecationWarning: `np.float` is a deprecated alias for the builtin `float`. To silence this warning, use `float` by itself. Doing this will not modify any behavior and is safe. If you specifically wanted the numpy scalar type, use `np.float64` here.\n",
      "Deprecated in NumPy 1.20; for more details and guidance: https://numpy.org/devdocs/release/1.20.0-notes.html#deprecations\n",
      "  eps=np.finfo(np.float).eps, copy_X=True, fit_path=True,\n",
      "/home/marie/newenv/lib/python3.8/site-packages/sklearn/linear_model/least_angle.py:1101: DeprecationWarning: `np.float` is a deprecated alias for the builtin `float`. To silence this warning, use `float` by itself. Doing this will not modify any behavior and is safe. If you specifically wanted the numpy scalar type, use `np.float64` here.\n",
      "Deprecated in NumPy 1.20; for more details and guidance: https://numpy.org/devdocs/release/1.20.0-notes.html#deprecations\n",
      "  eps=np.finfo(np.float).eps, copy_X=True, fit_path=True,\n",
      "/home/marie/newenv/lib/python3.8/site-packages/sklearn/linear_model/least_angle.py:1127: DeprecationWarning: `np.float` is a deprecated alias for the builtin `float`. To silence this warning, use `float` by itself. Doing this will not modify any behavior and is safe. If you specifically wanted the numpy scalar type, use `np.float64` here.\n",
      "Deprecated in NumPy 1.20; for more details and guidance: https://numpy.org/devdocs/release/1.20.0-notes.html#deprecations\n",
      "  eps=np.finfo(np.float).eps, positive=False):\n",
      "/home/marie/newenv/lib/python3.8/site-packages/sklearn/linear_model/least_angle.py:1362: DeprecationWarning: `np.float` is a deprecated alias for the builtin `float`. To silence this warning, use `float` by itself. Doing this will not modify any behavior and is safe. If you specifically wanted the numpy scalar type, use `np.float64` here.\n",
      "Deprecated in NumPy 1.20; for more details and guidance: https://numpy.org/devdocs/release/1.20.0-notes.html#deprecations\n",
      "  max_n_alphas=1000, n_jobs=None, eps=np.finfo(np.float).eps,\n",
      "/home/marie/newenv/lib/python3.8/site-packages/sklearn/linear_model/least_angle.py:1602: DeprecationWarning: `np.float` is a deprecated alias for the builtin `float`. To silence this warning, use `float` by itself. Doing this will not modify any behavior and is safe. If you specifically wanted the numpy scalar type, use `np.float64` here.\n",
      "Deprecated in NumPy 1.20; for more details and guidance: https://numpy.org/devdocs/release/1.20.0-notes.html#deprecations\n",
      "  max_n_alphas=1000, n_jobs=None, eps=np.finfo(np.float).eps,\n",
      "/home/marie/newenv/lib/python3.8/site-packages/sklearn/linear_model/least_angle.py:1738: DeprecationWarning: `np.float` is a deprecated alias for the builtin `float`. To silence this warning, use `float` by itself. Doing this will not modify any behavior and is safe. If you specifically wanted the numpy scalar type, use `np.float64` here.\n",
      "Deprecated in NumPy 1.20; for more details and guidance: https://numpy.org/devdocs/release/1.20.0-notes.html#deprecations\n",
      "  eps=np.finfo(np.float).eps, copy_X=True, positive=False):\n",
      "/home/marie/newenv/lib/python3.8/site-packages/sklearn/utils/optimize.py:18: DeprecationWarning: Please use `line_search_wolfe2` from the `scipy.optimize` namespace, the `scipy.optimize.linesearch` namespace is deprecated.\n",
      "  from scipy.optimize.linesearch import line_search_wolfe2, line_search_wolfe1\n",
      "/home/marie/newenv/lib/python3.8/site-packages/sklearn/utils/optimize.py:18: DeprecationWarning: Please use `line_search_wolfe1` from the `scipy.optimize` namespace, the `scipy.optimize.linesearch` namespace is deprecated.\n",
      "  from scipy.optimize.linesearch import line_search_wolfe2, line_search_wolfe1\n"
     ]
    }
   ],
   "source": [
    "import pandas as pd\n",
    "import re\n",
    "import pymorphy2\n",
    "from nltk.tokenize import word_tokenize \n",
    "from gensim.models import Word2Vec\n",
    "\n",
    "\n",
    "from tqdm import tqdm\n",
    "tqdm.pandas()"
   ]
  },
  {
   "cell_type": "code",
   "execution_count": 3,
   "id": "usual-curve",
   "metadata": {},
   "outputs": [],
   "source": [
    "df = pd.read_csv('../lab_1/rureviews/women-clothing-accessories.3-class.balanced.csv', encoding=\"utf8\", sep='\\t')"
   ]
  },
  {
   "cell_type": "code",
   "execution_count": 4,
   "id": "neural-permission",
   "metadata": {},
   "outputs": [],
   "source": [
    "df = df[df['sentiment'] != 'neautral']"
   ]
  },
  {
   "cell_type": "code",
   "execution_count": 5,
   "id": "stone-contribution",
   "metadata": {},
   "outputs": [
    {
     "data": {
      "text/html": [
       "<div>\n",
       "<style scoped>\n",
       "    .dataframe tbody tr th:only-of-type {\n",
       "        vertical-align: middle;\n",
       "    }\n",
       "\n",
       "    .dataframe tbody tr th {\n",
       "        vertical-align: top;\n",
       "    }\n",
       "\n",
       "    .dataframe thead th {\n",
       "        text-align: right;\n",
       "    }\n",
       "</style>\n",
       "<table border=\"1\" class=\"dataframe\">\n",
       "  <thead>\n",
       "    <tr style=\"text-align: right;\">\n",
       "      <th></th>\n",
       "      <th>review</th>\n",
       "      <th>sentiment</th>\n",
       "    </tr>\n",
       "  </thead>\n",
       "  <tbody>\n",
       "    <tr>\n",
       "      <th>0</th>\n",
       "      <td>качество плохое пошив ужасный (горловина напер...</td>\n",
       "      <td>negative</td>\n",
       "    </tr>\n",
       "    <tr>\n",
       "      <th>1</th>\n",
       "      <td>Товар отдали другому человеку, я не получила п...</td>\n",
       "      <td>negative</td>\n",
       "    </tr>\n",
       "    <tr>\n",
       "      <th>2</th>\n",
       "      <td>Ужасная синтетика! Тонкая, ничего общего с пре...</td>\n",
       "      <td>negative</td>\n",
       "    </tr>\n",
       "    <tr>\n",
       "      <th>3</th>\n",
       "      <td>товар не пришел, продавец продлил защиту без м...</td>\n",
       "      <td>negative</td>\n",
       "    </tr>\n",
       "    <tr>\n",
       "      <th>4</th>\n",
       "      <td>Кофточка голая синтетика, носить не возможно.</td>\n",
       "      <td>negative</td>\n",
       "    </tr>\n",
       "    <tr>\n",
       "      <th>...</th>\n",
       "      <td>...</td>\n",
       "      <td>...</td>\n",
       "    </tr>\n",
       "    <tr>\n",
       "      <th>89995</th>\n",
       "      <td>сделано достаточно хорошо. на ткани сделан рис...</td>\n",
       "      <td>positive</td>\n",
       "    </tr>\n",
       "    <tr>\n",
       "      <th>89996</th>\n",
       "      <td>Накидка шикарная. Спасибо большое провдо линяе...</td>\n",
       "      <td>positive</td>\n",
       "    </tr>\n",
       "    <tr>\n",
       "      <th>89997</th>\n",
       "      <td>спасибо большое ) продовца рекомендую.. заказа...</td>\n",
       "      <td>positive</td>\n",
       "    </tr>\n",
       "    <tr>\n",
       "      <th>89998</th>\n",
       "      <td>Очень довольна заказом! Меньше месяца в РБ.  К...</td>\n",
       "      <td>positive</td>\n",
       "    </tr>\n",
       "    <tr>\n",
       "      <th>89999</th>\n",
       "      <td>хорошая куртка. постороннего запаха нет. швы р...</td>\n",
       "      <td>positive</td>\n",
       "    </tr>\n",
       "  </tbody>\n",
       "</table>\n",
       "<p>60000 rows × 2 columns</p>\n",
       "</div>"
      ],
      "text/plain": [
       "                                                  review sentiment\n",
       "0      качество плохое пошив ужасный (горловина напер...  negative\n",
       "1      Товар отдали другому человеку, я не получила п...  negative\n",
       "2      Ужасная синтетика! Тонкая, ничего общего с пре...  negative\n",
       "3      товар не пришел, продавец продлил защиту без м...  negative\n",
       "4          Кофточка голая синтетика, носить не возможно.  negative\n",
       "...                                                  ...       ...\n",
       "89995  сделано достаточно хорошо. на ткани сделан рис...  positive\n",
       "89996  Накидка шикарная. Спасибо большое провдо линяе...  positive\n",
       "89997  спасибо большое ) продовца рекомендую.. заказа...  positive\n",
       "89998  Очень довольна заказом! Меньше месяца в РБ.  К...  positive\n",
       "89999  хорошая куртка. постороннего запаха нет. швы р...  positive\n",
       "\n",
       "[60000 rows x 2 columns]"
      ]
     },
     "execution_count": 5,
     "metadata": {},
     "output_type": "execute_result"
    }
   ],
   "source": [
    "df"
   ]
  },
  {
   "cell_type": "code",
   "execution_count": 6,
   "id": "hungarian-audio",
   "metadata": {},
   "outputs": [
    {
     "name": "stderr",
     "output_type": "stream",
     "text": [
      "Some weights of the model checkpoint at bert-base-multilingual-cased were not used when initializing BertModel: ['cls.seq_relationship.bias', 'cls.predictions.transform.dense.weight', 'cls.seq_relationship.weight', 'cls.predictions.bias', 'cls.predictions.transform.LayerNorm.weight', 'cls.predictions.decoder.weight', 'cls.predictions.transform.LayerNorm.bias', 'cls.predictions.transform.dense.bias']\n",
      "- This IS expected if you are initializing BertModel from the checkpoint of a model trained on another task or with another architecture (e.g. initializing a BertForSequenceClassification model from a BertForPreTraining model).\n",
      "- This IS NOT expected if you are initializing BertModel from the checkpoint of a model that you expect to be exactly identical (initializing a BertForSequenceClassification model from a BertForSequenceClassification model).\n"
     ]
    }
   ],
   "source": [
    "# Load model directly\n",
    "\n",
    "from transformers import BertTokenizer, BertModel\n",
    "tokenizer = BertTokenizer.from_pretrained('bert-base-multilingual-cased')\n",
    "model = BertModel.from_pretrained(\"bert-base-multilingual-cased\")"
   ]
  },
  {
   "cell_type": "code",
   "execution_count": 12,
   "id": "moral-arcade",
   "metadata": {},
   "outputs": [],
   "source": [
    "text = \"Replace me by any text you'd like.\"\n",
    "encoded_input = tokenizer(text, return_tensors='pt')\n",
    "output = model(**encoded_input)"
   ]
  },
  {
   "cell_type": "code",
   "execution_count": 13,
   "id": "alternative-circuit",
   "metadata": {},
   "outputs": [
    {
     "data": {
      "text/plain": [
       "BaseModelOutputWithPoolingAndCrossAttentions(last_hidden_state=tensor([[[ 0.2524, -0.5321,  0.4496,  ...,  1.1428, -0.6238, -0.0745],\n",
       "         [ 0.5374,  0.0701,  0.4880,  ...,  1.0800, -0.5560, -0.5564],\n",
       "         [ 0.4686, -0.3286,  0.4782,  ...,  1.1656, -0.7389, -0.3920],\n",
       "         ...,\n",
       "         [ 0.4822, -1.0822,  0.9026,  ...,  1.8029, -1.1343, -0.1034],\n",
       "         [ 0.1283, -0.6550,  0.3723,  ...,  0.7817, -0.9173, -0.0401],\n",
       "         [ 0.1645, -0.5239,  0.6638,  ...,  0.7964, -0.7326, -0.2642]]],\n",
       "       grad_fn=<NativeLayerNormBackward0>), pooler_output=tensor([[ 0.3479, -0.0466,  0.4564, -0.2464, -0.0563,  0.5865,  0.4807,  0.2475,\n",
       "         -0.5663,  0.4260,  0.0136, -0.3356, -0.3281,  0.0391,  0.3874, -0.4077,\n",
       "          0.8111,  0.2171,  0.4523, -0.5184, -0.9998, -0.5465, -0.1472, -0.5278,\n",
       "         -0.5858,  0.3390, -0.4160,  0.3991,  0.4012, -0.4298,  0.1618, -0.9998,\n",
       "          0.7481,  0.7902,  0.3325, -0.4037,  0.1348,  0.2374,  0.2554, -0.1603,\n",
       "         -0.3249,  0.0911, -0.4920,  0.0966, -0.0886, -0.4324, -0.3835,  0.3972,\n",
       "         -0.5554,  0.2169,  0.1148,  0.3260,  0.4943,  0.4352,  0.3529,  0.2036,\n",
       "          0.3909,  0.1889,  0.5300, -0.4648, -0.0521,  0.5751,  0.2526, -0.0612,\n",
       "         -0.2219, -0.4394,  0.0356, -0.3328,  0.5685, -0.3036, -0.2594, -0.4530,\n",
       "         -0.2713,  0.1009,  0.2301, -0.3336,  0.5517,  0.4013,  0.1831, -0.3138,\n",
       "         -0.5992, -0.5676, -0.5336,  0.3356, -0.2990,  0.5137,  0.2741, -0.5048,\n",
       "          0.2117, -0.0015,  0.3309,  0.6298, -0.2695,  0.2346, -0.3509, -0.4789,\n",
       "         -0.8909, -0.3698, -0.4985, -0.5266, -0.4290,  0.1720, -0.2786, -0.3678,\n",
       "         -0.1528, -0.5241,  0.3222,  0.3790, -0.3511,  0.4393,  0.3300, -0.5506,\n",
       "         -0.2684,  0.2293, -0.4590,  0.9924, -0.5686,  0.5286,  0.0708, -0.2181,\n",
       "         -0.6942,  0.9998,  0.1417, -0.2129,  0.2732,  0.3654, -0.6268,  0.2804,\n",
       "          0.4681,  0.4806,  0.4627, -0.2392, -0.3762, -0.4162, -0.9208, -0.3348,\n",
       "         -0.5620,  0.2746, -0.5168, -0.4194,  0.2401,  0.3975,  0.2670, -0.1696,\n",
       "         -0.3278, -0.0907,  0.5337, -0.3277,  0.9998,  0.6998, -0.3795, -0.0534,\n",
       "          0.7170, -0.7487, -0.3792, -0.3239, -0.3306, -0.7024,  0.3410,  0.3298,\n",
       "          0.3016, -0.3909, -0.5636, -0.3942,  0.2903, -0.7446, -0.3552,  0.5690,\n",
       "          0.4293,  0.4615, -0.2927,  0.5457,  0.4178, -0.2542, -0.3220,  0.5368,\n",
       "          0.3799, -0.2040, -0.4458, -0.1065,  0.3341, -0.3019, -0.6492,  0.1437,\n",
       "         -0.2294, -0.5867,  0.2758, -0.3071, -0.0754,  0.2141, -0.5020,  0.3125,\n",
       "         -0.5100,  0.4330,  0.5638,  0.2154, -0.4454,  0.3568,  0.5825,  0.5002,\n",
       "          0.4783,  0.1944,  0.3854,  0.3343, -0.4531, -0.8202,  0.5794,  0.3621,\n",
       "          0.4884, -0.2074, -0.5437, -0.5644,  0.7088,  0.4359, -0.3276,  0.5428,\n",
       "          0.4145, -0.4658, -0.3687,  0.3062, -0.1896, -0.5597, -0.5004, -0.4566,\n",
       "         -0.1157,  0.4746,  0.2691,  0.1165,  0.1806, -0.2733, -0.2113, -0.4532,\n",
       "          0.2552,  0.2581, -0.1887,  0.9240, -0.3420,  0.1755, -0.5977, -0.2486,\n",
       "          0.3691, -0.2093,  0.3388,  0.9882,  0.2615, -0.4248,  0.1601,  0.2186,\n",
       "          0.2783, -0.3623,  0.1934, -0.7431,  0.8718,  0.5192,  0.3146, -0.9998,\n",
       "          0.3282,  0.1694,  0.2693,  0.3528,  0.3718,  0.2386,  0.3505,  0.9561,\n",
       "         -0.6181, -0.5637, -0.6078, -0.3900, -0.6018, -0.3526, -0.4228, -0.3809,\n",
       "         -0.3002, -0.2034, -0.2592,  0.3707,  0.3969, -0.9981,  0.9230,  0.2382,\n",
       "         -0.2377, -0.0136,  0.4744, -0.9998,  0.4307, -0.2486, -0.4819,  0.4280,\n",
       "         -0.6735, -0.3429,  0.2829,  0.2688,  0.4592,  0.3448,  0.1427,  0.5622,\n",
       "         -0.1548,  0.0800,  0.2396, -0.2551,  0.7024, -0.0637,  0.2483,  0.4902,\n",
       "         -0.0604,  0.4824, -0.4325,  0.5296,  0.5423,  0.1549,  0.2383, -0.3534,\n",
       "          0.4392, -0.8413,  0.4954, -0.0289, -0.1962, -0.0201,  0.3012, -0.2925,\n",
       "         -0.2265,  0.2662, -0.6172,  0.9998,  0.4016, -0.4316, -0.6277,  0.5666,\n",
       "          0.7398, -0.3263, -0.8886, -0.2034,  0.6460,  0.4737,  0.2391,  0.3137,\n",
       "          0.2394,  0.2663, -0.1722, -0.2366, -0.0762, -0.5351,  0.4793, -0.2669,\n",
       "         -0.3655,  0.4261, -0.4167, -0.3533, -0.9110,  0.5237,  0.4789,  0.2668,\n",
       "          0.2215,  0.2964, -0.3993,  0.7121,  0.6148, -0.3470, -0.2579, -0.3197,\n",
       "         -0.3302,  0.0703, -0.3236, -0.3757,  0.3013, -0.7673,  0.2004, -0.1767,\n",
       "         -0.3236, -0.4728,  0.5218, -0.9998, -0.1971,  0.2426, -0.3627,  0.5291,\n",
       "         -0.4952, -0.1579,  0.1851,  0.3242,  0.0453,  0.4090, -0.4824,  0.3272,\n",
       "         -0.2402,  0.3627,  0.8409,  0.7796,  0.2317, -0.4103,  0.3347, -0.5352,\n",
       "         -0.1233,  0.5097,  0.4353, -0.1352,  0.3606,  0.4346,  0.3564, -0.3667,\n",
       "          0.4498, -0.2681, -0.3671,  0.3424,  0.1276, -0.2811, -0.5382,  0.2924,\n",
       "         -0.5711,  0.4475,  0.3389,  0.5766,  0.3297,  0.4118, -0.3788, -0.3290,\n",
       "         -0.1866, -0.1894, -0.5205, -0.5004, -0.3591,  0.9998,  0.4138,  0.4436,\n",
       "         -0.5978,  0.4752,  0.2903, -0.3527,  0.3584,  0.5775,  0.2543, -0.0140,\n",
       "          0.2847,  0.4611,  0.3658,  0.5154,  0.5331,  0.6123, -0.4101,  0.7353,\n",
       "         -0.3032, -0.5571, -0.9984,  0.3908,  0.6632, -0.4190, -0.8705,  0.3718,\n",
       "         -0.3502,  0.2786, -0.4557,  0.0131,  0.3753, -0.3060,  0.5765, -0.2056,\n",
       "          0.9997, -0.2336,  0.3872,  0.4641,  0.3707, -0.2764, -0.4731, -0.4289,\n",
       "          0.4056, -0.4280,  0.1517, -0.9720,  0.4526,  0.0424,  0.3430, -0.2254,\n",
       "          0.5788, -0.5043,  0.4951, -0.1597, -0.4305, -0.3821,  0.4350, -0.5796,\n",
       "          0.5389, -0.3024,  0.1203, -0.4169,  0.3182, -0.1258,  0.5588, -0.2346,\n",
       "          0.0680, -0.3068, -0.3093, -0.4831,  0.1124, -0.3321,  0.9998, -0.1196,\n",
       "          0.5176, -0.4022,  0.4818, -0.4652,  0.7185,  0.7791, -0.2603,  0.4564,\n",
       "          0.4134, -0.7492,  0.4928, -0.1487, -0.8899, -0.0349,  0.9843,  0.2287,\n",
       "          0.2933,  0.7056,  0.4445,  0.5416, -0.3607,  0.2753,  0.9175,  0.2576,\n",
       "          0.2043,  0.3301,  0.1690, -0.2744, -0.4724,  0.9998,  0.9997, -0.0657,\n",
       "          0.3945, -0.3565, -0.3675, -0.3862,  0.2491,  0.1906,  0.3696, -0.2029,\n",
       "          0.0978, -0.4928, -0.2283, -0.2088, -0.3244, -0.3628,  0.2238, -0.5318,\n",
       "          0.6601,  0.4634,  0.3248,  0.5380,  0.4754,  0.3531, -0.2502, -0.4468,\n",
       "          0.5027, -0.4210, -0.2843, -0.3626,  0.2704, -0.9997, -0.3237, -0.3378,\n",
       "         -0.3674,  0.6854,  0.3904,  0.1491, -0.3761, -0.2340, -0.4994,  0.3760,\n",
       "          0.0038,  0.3809, -0.3853, -0.3365,  0.5422, -0.7120,  0.2767, -0.4304,\n",
       "         -0.4116, -0.6568, -0.4123, -0.3864,  0.4490, -0.3626, -0.3944,  0.5106,\n",
       "          0.4320,  0.3441, -0.4078,  0.3311, -0.2481,  0.0281,  0.5284,  0.3057,\n",
       "          0.3534, -0.4360, -0.4805, -0.3101, -0.4968, -0.2919,  0.1183, -0.3756,\n",
       "          0.3986, -0.3174,  0.3155, -0.3968,  0.0747,  0.4007,  0.5872, -0.2769,\n",
       "          0.6463,  0.5545, -0.2109,  0.6229,  0.3648, -0.3702, -0.4417,  0.9998,\n",
       "          0.5258,  0.2709, -0.0111, -0.1960,  0.3316,  0.3600,  0.6899, -0.4168,\n",
       "          0.8816, -0.4170,  0.3142,  0.5387,  0.5203,  0.0401,  0.4016,  0.3202,\n",
       "          0.8566,  0.4476,  0.5010,  0.5407,  0.1573,  0.5883,  0.4044,  0.3473,\n",
       "          0.4646,  0.4544, -0.4164,  0.4577, -0.3750, -0.2294, -0.0772, -0.1680,\n",
       "         -0.3458,  0.0120, -0.2115, -0.2273, -0.1055,  0.5045, -0.3115,  0.1304,\n",
       "         -0.1694, -0.3133,  0.6474, -0.6750,  0.4520, -0.1844,  0.1244, -0.8716,\n",
       "          0.4054, -0.2088, -0.5018, -0.3058, -0.6826,  0.3779,  0.4047, -0.4849,\n",
       "          0.4524, -0.1988,  0.3167, -0.3646, -0.3537,  0.2657, -0.9998,  0.2529,\n",
       "          0.3900, -0.4465,  0.3725,  0.0813,  0.3133,  0.4863, -0.5000, -0.5793,\n",
       "         -0.3430,  0.4808, -0.3672,  0.1632,  0.4605, -0.5725, -0.2863,  0.1940,\n",
       "         -0.3025,  0.3865,  0.5675, -0.3394,  0.5261, -0.4529,  0.1571, -0.4972,\n",
       "          0.2650, -0.5463, -0.2356,  0.4190, -0.4152, -0.6399, -0.0933,  0.3661,\n",
       "         -0.2407,  0.2780,  0.4938, -0.1811,  0.4346, -0.4499,  0.5624, -0.3171,\n",
       "          0.3187, -0.8939, -0.3868, -0.6404, -0.1275,  0.3002,  0.6523,  0.1678,\n",
       "          0.4010, -0.2698,  0.0510, -0.1523,  0.3995,  0.4114, -0.2815,  0.0711,\n",
       "         -0.3346,  0.2971, -0.5793,  0.0084, -0.9974, -0.4989,  0.2654,  0.5173,\n",
       "          0.4936, -0.3613, -0.2462, -0.4643, -0.2649,  0.2476,  0.3840,  0.3994,\n",
       "          0.4215,  0.4807, -0.2922, -0.2126,  0.8593, -0.3262,  0.2572,  0.4530,\n",
       "          0.5275,  0.9433,  0.3779,  0.3931,  0.3170, -0.4342,  0.5104,  0.4348]],\n",
       "       grad_fn=<TanhBackward0>), hidden_states=None, past_key_values=None, attentions=None, cross_attentions=None)"
      ]
     },
     "execution_count": 13,
     "metadata": {},
     "output_type": "execute_result"
    }
   ],
   "source": [
    "output"
   ]
  },
  {
   "cell_type": "code",
   "execution_count": 7,
   "id": "steady-villa",
   "metadata": {},
   "outputs": [],
   "source": [
    "from tqdm import tqdm\n",
    "tqdm.pandas()"
   ]
  },
  {
   "cell_type": "code",
   "execution_count": 15,
   "id": "internal-paint",
   "metadata": {},
   "outputs": [],
   "source": [
    "df = df[df['len_tokens'] < 512]"
   ]
  },
  {
   "cell_type": "code",
   "execution_count": 10,
   "id": "vanilla-argentina",
   "metadata": {},
   "outputs": [],
   "source": [
    "import torch"
   ]
  },
  {
   "cell_type": "code",
   "execution_count": 11,
   "id": "invisible-office",
   "metadata": {},
   "outputs": [],
   "source": [
    "device = (\n",
    "    \"cuda\"\n",
    "    if torch.cuda.is_available()\n",
    "    else \"mps\"\n",
    "    if torch.backends.mps.is_available()\n",
    "    else \"cpu\"\n",
    ")"
   ]
  },
  {
   "cell_type": "code",
   "execution_count": 12,
   "id": "young-celebration",
   "metadata": {},
   "outputs": [
    {
     "data": {
      "text/plain": [
       "'cuda'"
      ]
     },
     "execution_count": 12,
     "metadata": {},
     "output_type": "execute_result"
    }
   ],
   "source": [
    "device"
   ]
  },
  {
   "cell_type": "code",
   "execution_count": null,
   "id": "perceived-particular",
   "metadata": {},
   "outputs": [
    {
     "name": "stderr",
     "output_type": "stream",
     "text": [
      "100%|██████████| 59996/59996 [00:24<00:00, 2435.71it/s]\n",
      "  0%|          | 63/59996 [00:02<44:27, 22.46it/s]"
     ]
    }
   ],
   "source": [
    "preproc =  pd.DataFrame()\n",
    "preproc[\"tokenized\"] = df['review'].progress_apply((lambda x: tokenizer(x, return_tensors='pt')))\n",
    "preproc[\"vectors\"] = preproc[\"tokenized\"].progress_apply(lambda x: model(**x)[0][0][0])"
   ]
  },
  {
   "cell_type": "code",
   "execution_count": 26,
   "id": "whole-madonna",
   "metadata": {},
   "outputs": [],
   "source": [
    "preproc[\"vectors\"] = preproc[\"vectors\"].apply(lambda x: x[0][0][0])"
   ]
  },
  {
   "cell_type": "code",
   "execution_count": 27,
   "id": "bacterial-airfare",
   "metadata": {},
   "outputs": [
    {
     "data": {
      "text/plain": [
       "torch.Size([768])"
      ]
     },
     "execution_count": 27,
     "metadata": {},
     "output_type": "execute_result"
    }
   ],
   "source": [
    "preproc[\"vectors\"].iloc[0].shape"
   ]
  },
  {
   "cell_type": "code",
   "execution_count": 13,
   "id": "prompt-coordinator",
   "metadata": {},
   "outputs": [
    {
     "name": "stderr",
     "output_type": "stream",
     "text": [
      "100%|██████████| 60000/60000 [00:18<00:00, 3194.75it/s]\n"
     ]
    }
   ],
   "source": [
    "df['len_tokens'] = df['review'].progress_apply(lambda x: len(tokenizer.tokenize(x)))"
   ]
  },
  {
   "cell_type": "code",
   "execution_count": 14,
   "id": "optimum-companion",
   "metadata": {},
   "outputs": [
    {
     "data": {
      "text/html": [
       "<div>\n",
       "<style scoped>\n",
       "    .dataframe tbody tr th:only-of-type {\n",
       "        vertical-align: middle;\n",
       "    }\n",
       "\n",
       "    .dataframe tbody tr th {\n",
       "        vertical-align: top;\n",
       "    }\n",
       "\n",
       "    .dataframe thead th {\n",
       "        text-align: right;\n",
       "    }\n",
       "</style>\n",
       "<table border=\"1\" class=\"dataframe\">\n",
       "  <thead>\n",
       "    <tr style=\"text-align: right;\">\n",
       "      <th></th>\n",
       "      <th>review</th>\n",
       "      <th>sentiment</th>\n",
       "      <th>len_tokens</th>\n",
       "    </tr>\n",
       "  </thead>\n",
       "  <tbody>\n",
       "    <tr>\n",
       "      <th>984</th>\n",
       "      <td>РАНЕЕ Я КУПИЛА В ЭТОМ МАГАЗИНЕ ЧЕРНУЮ ЮБКУ РАЗ...</td>\n",
       "      <td>negative</td>\n",
       "      <td>539</td>\n",
       "    </tr>\n",
       "    <tr>\n",
       "      <th>2402</th>\n",
       "      <td>ОТВРАТИТЕЛЬНЫЙ ПРОДАВЕЦ! НА МОИ СООБЩЕНИЯ ТУПО...</td>\n",
       "      <td>negative</td>\n",
       "      <td>530</td>\n",
       "    </tr>\n",
       "    <tr>\n",
       "      <th>27640</th>\n",
       "      <td>ПЛОХОЙ ПРОДАВЕЦ. ПОКА СПОР НЕ ОТКРЫЛ, НЕ ОТПРА...</td>\n",
       "      <td>negative</td>\n",
       "      <td>636</td>\n",
       "    </tr>\n",
       "    <tr>\n",
       "      <th>83467</th>\n",
       "      <td>КУРТКА ПОНРАВИЛАСЬ...ДЖИНСА ДОБРОТНАЯ..ОЖИДАЛА...</td>\n",
       "      <td>positive</td>\n",
       "      <td>839</td>\n",
       "    </tr>\n",
       "  </tbody>\n",
       "</table>\n",
       "</div>"
      ],
      "text/plain": [
       "                                                  review sentiment  len_tokens\n",
       "984    РАНЕЕ Я КУПИЛА В ЭТОМ МАГАЗИНЕ ЧЕРНУЮ ЮБКУ РАЗ...  negative         539\n",
       "2402   ОТВРАТИТЕЛЬНЫЙ ПРОДАВЕЦ! НА МОИ СООБЩЕНИЯ ТУПО...  negative         530\n",
       "27640  ПЛОХОЙ ПРОДАВЕЦ. ПОКА СПОР НЕ ОТКРЫЛ, НЕ ОТПРА...  negative         636\n",
       "83467  КУРТКА ПОНРАВИЛАСЬ...ДЖИНСА ДОБРОТНАЯ..ОЖИДАЛА...  positive         839"
      ]
     },
     "execution_count": 14,
     "metadata": {},
     "output_type": "execute_result"
    }
   ],
   "source": [
    "df[df['len_tokens'] >= 512]"
   ]
  },
  {
   "cell_type": "code",
   "execution_count": null,
   "id": "incredible-component",
   "metadata": {},
   "outputs": [],
   "source": [
    "tokenizer"
   ]
  }
 ],
 "metadata": {
  "kernelspec": {
   "display_name": "Python 3",
   "language": "python",
   "name": "python3"
  },
  "language_info": {
   "codemirror_mode": {
    "name": "ipython",
    "version": 3
   },
   "file_extension": ".py",
   "mimetype": "text/x-python",
   "name": "python",
   "nbconvert_exporter": "python",
   "pygments_lexer": "ipython3",
   "version": "3.8.7"
  }
 },
 "nbformat": 4,
 "nbformat_minor": 5
}
