{
 "cells": [
  {
   "cell_type": "markdown",
   "metadata": {},
   "source": [
    "# Entity extraction using Fasttext and LSTM"
   ]
  },
  {
   "cell_type": "markdown",
   "metadata": {},
   "source": [
    "## Import everything important"
   ]
  },
  {
   "cell_type": "code",
   "execution_count": 1,
   "metadata": {
    "_cell_guid": "b1076dfc-b9ad-4769-8c92-a6c4dae69d19",
    "_uuid": "8f2839f25d086af736a60e9eeb907d3b93b6e0e5"
   },
   "outputs": [],
   "source": [
    "import joblib\n",
    "import torch\n",
    "import torch.nn as nn\n",
    "import transformers\n",
    "import nltk\n",
    "\n",
    "import numpy as np\n",
    "import pandas as pd\n",
    "\n",
    "from sklearn import preprocessing\n",
    "from sklearn import model_selection\n",
    "\n",
    "# from gensim.models import FastText as ft\n",
    "from gensim.models import fasttext as ft\n",
    "from torch.utils.tensorboard import SummaryWriter\n",
    "from nltk.tokenize import word_tokenize\n",
    "\n",
    "from tqdm import tqdm"
   ]
  },
  {
   "cell_type": "markdown",
   "metadata": {},
   "source": [
    "## Some config"
   ]
  },
  {
   "cell_type": "code",
   "execution_count": 2,
   "metadata": {
    "_cell_guid": "79c7e3d0-c299-4dcb-8224-4455121ee9b0",
    "_uuid": "d629ff2d2480ee46fbb7e2d37f6b5fab8052498a",
    "scrolled": true
   },
   "outputs": [],
   "source": [
    "MAX_LEN = 128\n",
    "TRAIN_BATCH_SIZE = 128 #\n",
    "VALID_BATCH_SIZE = 128 #\n",
    "EPOCHS = 5\n",
    "EMBED_DIM = 300\n",
    "\n",
    "MODEL_PATH = \"./state_dict.pt\"\n",
    "TRAINING_FILE = 'ner_dataset.csv' #"
   ]
  },
  {
   "cell_type": "code",
   "execution_count": 3,
   "metadata": {},
   "outputs": [
    {
     "data": {
      "text/plain": [
       "'cuda:0'"
      ]
     },
     "execution_count": 3,
     "metadata": {},
     "output_type": "execute_result"
    }
   ],
   "source": [
    "device = (\n",
    "    \"cuda:0\"\n",
    "    if torch.cuda.is_available()\n",
    "    else \"mps\"\n",
    "    if torch.backends.mps.is_available()\n",
    "    else \"cpu\"\n",
    ") #\n",
    "device"
   ]
  },
  {
   "cell_type": "markdown",
   "metadata": {},
   "source": [
    "https://dl.fbaipublicfiles.com/fasttext/vectors-crawl/cc.en.300.bin.gz"
   ]
  },
  {
   "cell_type": "code",
   "execution_count": 4,
   "metadata": {},
   "outputs": [],
   "source": [
    "# fasttext_model = ft.load_fasttext_format(\"cc.en.300.bin\")\n",
    "fasttext_model = ft.load_facebook_vectors(\"cc.en.300.bin\")"
   ]
  },
  {
   "cell_type": "markdown",
   "metadata": {},
   "source": [
    "## Dataset"
   ]
  },
  {
   "cell_type": "code",
   "execution_count": 5,
   "metadata": {},
   "outputs": [],
   "source": [
    "class EntityDataset:\n",
    "    def __init__(self, texts, tags):\n",
    "        self.texts = texts\n",
    "        self.tags = tags\n",
    "    \n",
    "    def __len__(self):\n",
    "        return len(self.texts)\n",
    "    \n",
    "    def __getitem__(self, item):\n",
    "        text = self.texts[item]\n",
    "        tags = np.array(self.tags[item])\n",
    "    \n",
    "        # ids = [fasttext_model.wv[s] for s in text]\n",
    "        ids = [fasttext_model[s] for s in text]\n",
    "        \n",
    "# реализуем паддинг: если текст меньше MAX_LEN, \n",
    "# забиваем матрицу нулями так, чтобы матрицы были одинакового размера для каждого текста   \n",
    "# возвращаем матрицу с нулями, список тегов с нулями, и маску -- разметку, какие элементы \n",
    "# являются словами, а какие -- пустые поля (нули). Маска нужна, чтобы правильно считать лосс\n",
    "# то есть, не учитывать в нем \"пустые\" части с нулями\n",
    "        \n",
    "        if len(ids) < MAX_LEN:\n",
    "            ids_pad = np.array(ids + [[0]*len(ids[0])]*(MAX_LEN - len(ids)))\n",
    "            tags_pad = list(tags) + [0]*(MAX_LEN - len(tags))\n",
    "            mask = [1]*len(ids) + [0]*(MAX_LEN - len(ids))\n",
    "        else:\n",
    "            ids_pad = np.array(ids[:MAX_LEN])\n",
    "            tags_pad = list(tags)[:MAX_LEN]\n",
    "            mask = [1]*MAX_LEN\n",
    "            \n",
    "        return (torch.tensor(ids_pad, dtype=torch.float32),\n",
    "                torch.tensor(tags_pad, dtype=torch.long),\n",
    "                torch.tensor(mask, dtype=torch.long))"
   ]
  },
  {
   "cell_type": "markdown",
   "metadata": {},
   "source": [
    "## Training and evaluation functions"
   ]
  },
  {
   "cell_type": "code",
   "execution_count": 6,
   "metadata": {},
   "outputs": [],
   "source": [
    "def loss_fn(output, target, mask, num_labels):\n",
    "    lfn = nn.CrossEntropyLoss()\n",
    "    active_loss = mask.view(-1) == 1\n",
    "    active_logits = output.view(-1, num_labels)\n",
    "    active_labels = torch.where(\n",
    "        active_loss,\n",
    "        target.view(-1),\n",
    "        torch.tensor(lfn.ignore_index).type_as(target)\n",
    "    )\n",
    "    loss = lfn(active_logits, active_labels)\n",
    "    return loss"
   ]
  },
  {
   "cell_type": "code",
   "execution_count": 7,
   "metadata": {},
   "outputs": [],
   "source": [
    "def acc_stat(pred, target, mask):\n",
    "    mask = mask.bool()\n",
    "    pred = torch.masked_select(pred, mask)\n",
    "    target = torch.masked_select(target, mask)\n",
    "    correct = torch.tensor(torch.eq(pred, target).sum().item(),dtype=torch.float32) # сколько элементов угадано корректно\n",
    "    total = torch.tensor(len(pred), dtype=torch.float32) # сколько элементов было всего, не считая \"пустых\" с нулями\n",
    "    return correct, total"
   ]
  },
  {
   "cell_type": "markdown",
   "metadata": {},
   "source": [
    "пример того как должно работать"
   ]
  },
  {
   "cell_type": "code",
   "execution_count": 8,
   "metadata": {},
   "outputs": [
    {
     "data": {
      "text/plain": [
       "(tensor(4.), tensor(4.))"
      ]
     },
     "execution_count": 8,
     "metadata": {},
     "output_type": "execute_result"
    }
   ],
   "source": [
    "acc_stat(torch.tensor([1,2,3,4,0,0,0,0]), torch.tensor([1,2,3,4,5,5,5,5]), torch.tensor([1,1,1,1,0,0,0,0]))"
   ]
  },
  {
   "cell_type": "code",
   "execution_count": 9,
   "metadata": {},
   "outputs": [
    {
     "data": {
      "text/plain": [
       "(tensor(0.), tensor(4.))"
      ]
     },
     "execution_count": 9,
     "metadata": {},
     "output_type": "execute_result"
    }
   ],
   "source": [
    "acc_stat(torch.tensor([1,2,3,4,0,0,0,0]), torch.tensor([1,2,3,4,5,5,5,5]), torch.tensor([0,0,0,0,1,1,1,1]))"
   ]
  },
  {
   "cell_type": "markdown",
   "metadata": {},
   "source": [
    "## Loss function and model"
   ]
  },
  {
   "cell_type": "code",
   "execution_count": 10,
   "metadata": {},
   "outputs": [],
   "source": [
    "class EntityModel(nn.Module):\n",
    "    def __init__(self, output_size, embedding_dim, hidden_dim, n_layers, drop_prob=0.5, bidirectional=False):\n",
    "        super().__init__()\n",
    "        self.output_size = output_size\n",
    "        self.n_layers = n_layers\n",
    "        self.hidden_dim = hidden_dim\n",
    "        \n",
    "        self.lstm = nn.LSTM(embedding_dim, hidden_dim, n_layers, dropout=drop_prob,\n",
    "                            batch_first=True, bidirectional=bidirectional)\n",
    "        self.dropout = nn.Dropout(drop_prob)\n",
    "        self.fc = nn.Linear(hidden_dim, output_size)\n",
    "    \n",
    "    def forward(self, embeds, hidden):\n",
    "        lstm_out, hidden = self.lstm(embeds, hidden)\n",
    "        lstm_out = lstm_out.contiguous().view(-1, self.hidden_dim)\n",
    "        dropout_out = self.dropout(lstm_out)\n",
    "        out = self.fc(dropout_out)\n",
    "        \n",
    "        return out, hidden\n",
    "    \n",
    "    def init_hidden(self, batch_size):\n",
    "        num_directions = 2 if self.lstm.bidirectional else 1\n",
    "        print(\"num_directions\", num_directions)\n",
    "        h_zeros = torch.zeros(self.n_layers * num_directions,\n",
    "                              batch_size, self.hidden_dim,\n",
    "                              dtype=torch.float32, device=device)\n",
    "        c_zeros = torch.zeros(self.n_layers * num_directions,\n",
    "                              batch_size, self.hidden_dim,\n",
    "                              dtype=torch.float32, device=device)\n",
    "\n",
    "        return (h_zeros, c_zeros)"
   ]
  },
  {
   "cell_type": "markdown",
   "metadata": {},
   "source": [
    "## Data processing"
   ]
  },
  {
   "cell_type": "code",
   "execution_count": 11,
   "metadata": {},
   "outputs": [],
   "source": [
    "def process_data(data_path):\n",
    "    df = pd.read_csv(data_path, encoding=\"latin-1\")\n",
    "    df.loc[:, \"Sentence #\"] = df[\"Sentence #\"].fillna(method=\"ffill\")\n",
    "\n",
    "    enc_tag = preprocessing.LabelEncoder()\n",
    "\n",
    "    # df.loc[:, \"Tag\"] = enc_tag.fit_transform(df[\"Tag\"])\n",
    "    df[df.columns[df.columns.get_loc(\"Tag\")]] = enc_tag.fit_transform(df[\"Tag\"])\n",
    "\n",
    "    sentences = df.groupby(\"Sentence #\")[\"Word\"].apply(list).values\n",
    "    tag = df.groupby(\"Sentence #\")[\"Tag\"].apply(list).values\n",
    "    return sentences, tag, enc_tag"
   ]
  },
  {
   "cell_type": "markdown",
   "metadata": {},
   "source": [
    "## Training"
   ]
  },
  {
   "cell_type": "code",
   "execution_count": 12,
   "metadata": {},
   "outputs": [],
   "source": [
    "sentences, tag, enc_tag = process_data(TRAINING_FILE)"
   ]
  },
  {
   "cell_type": "code",
   "execution_count": 13,
   "metadata": {},
   "outputs": [],
   "source": [
    "from sklearn.model_selection import train_test_split #\n",
    "\n",
    "meta_data = {\n",
    "    \"enc_tag\": enc_tag\n",
    "}\n",
    "\n",
    "joblib.dump(meta_data, \"meta.bin\")\n",
    "\n",
    "num_tag = len(list(enc_tag.classes_))\n",
    "\n",
    "(\n",
    "    train_sentences,\n",
    "    test_sentences,\n",
    "    train_tag,\n",
    "    test_tag\n",
    ") = train_test_split(sentences, tag, test_size=0.2) # делим на трейн и тест с помощью train_test_split"
   ]
  },
  {
   "cell_type": "code",
   "execution_count": 14,
   "metadata": {},
   "outputs": [],
   "source": [
    "train_dataset = EntityDataset(\n",
    "    texts=train_sentences, tags=train_tag\n",
    ")\n",
    "\n",
    "train_data_loader = torch.utils.data.DataLoader(\n",
    "    train_dataset, batch_size=TRAIN_BATCH_SIZE, num_workers=0, #\n",
    "    shuffle=True, drop_last=True\n",
    ")\n",
    "\n",
    "valid_dataset = EntityDataset(\n",
    "    texts=test_sentences, tags=test_tag\n",
    ")\n",
    "\n",
    "valid_data_loader = torch.utils.data.DataLoader(\n",
    "    valid_dataset, batch_size=VALID_BATCH_SIZE, num_workers=0, #\n",
    "    shuffle=False, drop_last=True\n",
    ")"
   ]
  },
  {
   "cell_type": "code",
   "execution_count": 15,
   "metadata": {},
   "outputs": [],
   "source": [
    "def eval_model(model, valid_data_loader):\n",
    "    h = model.init_hidden(VALID_BATCH_SIZE)\n",
    "    losses = []\n",
    "    \n",
    "    correct_sum, total_sum = 0, 0\n",
    "    \n",
    "    for inputs, labels, mask in valid_data_loader:\n",
    "        h = tuple([each.data for each in h])\n",
    "        # отправим inputs, labels и mask на GPU\n",
    "        if torch.cuda.is_available():\n",
    "            inputs = inputs.cuda()\n",
    "            labels = labels.cuda()\n",
    "            mask = mask.cuda()\n",
    "            \n",
    "        model.zero_grad()\n",
    "        output, h = model(inputs, h)\n",
    "        loss = loss_fn(output, labels.flatten(), mask, num_tag)\n",
    "        losses.append(loss.item())\n",
    "        \n",
    "        correct, total = acc_stat(torch.argmax(output, dim=-1).flatten(), labels.flatten(), mask.flatten())\n",
    "        correct_sum += correct\n",
    "        total_sum += total\n",
    "    return losses"
   ]
  },
  {
   "cell_type": "code",
   "execution_count": 16,
   "metadata": {},
   "outputs": [],
   "source": [
    "hidden_dim = 512\n",
    "n_layers = 2\n",
    "\n",
    "model = EntityModel(num_tag, EMBED_DIM, hidden_dim, n_layers, drop_prob=0.5, bidirectional=False)\n",
    "model.to(device)\n",
    "\n",
    "lr=0.005\n",
    "optimizer = torch.optim.Adam(model.parameters(), lr=lr)"
   ]
  },
  {
   "cell_type": "code",
   "execution_count": 17,
   "metadata": {
    "scrolled": true
   },
   "outputs": [
    {
     "name": "stdout",
     "output_type": "stream",
     "text": [
      "num_directions 1\n"
     ]
    },
    {
     "name": "stderr",
     "output_type": "stream",
     "text": [
      "  3%|▎         | 9/299 [00:06<02:25,  1.99it/s]"
     ]
    },
    {
     "name": "stdout",
     "output_type": "stream",
     "text": [
      "num_directions 1\n"
     ]
    },
    {
     "name": "stderr",
     "output_type": "stream",
     "text": [
      "  3%|▎         | 9/299 [00:11<06:06,  1.26s/it]\n"
     ]
    },
    {
     "ename": "TypeError",
     "evalue": "'float' object is not iterable",
     "output_type": "error",
     "traceback": [
      "\u001b[1;31m---------------------------------------------------------------------------\u001b[0m",
      "\u001b[1;31mTypeError\u001b[0m                                 Traceback (most recent call last)",
      "\u001b[1;32mc:\\Users\\nikgo\\Documents\\NSU\\NLP\\NLP_labs\\lab_03\\lab3.ipynb Cell 27\u001b[0m line \u001b[0;36m3\n\u001b[0;32m     <a href='vscode-notebook-cell:/c%3A/Users/nikgo/Documents/NSU/NLP/NLP_labs/lab_03/lab3.ipynb#X35sZmlsZQ%3D%3D?line=31'>32</a>\u001b[0m \u001b[39mif\u001b[39;00m counter \u001b[39m%\u001b[39m print_every \u001b[39m==\u001b[39m \u001b[39m0\u001b[39m:\n\u001b[0;32m     <a href='vscode-notebook-cell:/c%3A/Users/nikgo/Documents/NSU/NLP/NLP_labs/lab_03/lab3.ipynb#X35sZmlsZQ%3D%3D?line=32'>33</a>\u001b[0m     model\u001b[39m.\u001b[39meval()\n\u001b[1;32m---> <a href='vscode-notebook-cell:/c%3A/Users/nikgo/Documents/NSU/NLP/NLP_labs/lab_03/lab3.ipynb#X35sZmlsZQ%3D%3D?line=33'>34</a>\u001b[0m     val_losses, val_acc \u001b[39m=\u001b[39m eval_model(model, valid_data_loader)\n\u001b[0;32m     <a href='vscode-notebook-cell:/c%3A/Users/nikgo/Documents/NSU/NLP/NLP_labs/lab_03/lab3.ipynb#X35sZmlsZQ%3D%3D?line=34'>35</a>\u001b[0m     model\u001b[39m.\u001b[39mtrain()\n\u001b[0;32m     <a href='vscode-notebook-cell:/c%3A/Users/nikgo/Documents/NSU/NLP/NLP_labs/lab_03/lab3.ipynb#X35sZmlsZQ%3D%3D?line=36'>37</a>\u001b[0m     val_loss \u001b[39m=\u001b[39m np\u001b[39m.\u001b[39mmean(val_losses)\n",
      "\u001b[1;32mc:\\Users\\nikgo\\Documents\\NSU\\NLP\\NLP_labs\\lab_03\\lab3.ipynb Cell 27\u001b[0m line \u001b[0;36m7\n\u001b[0;32m      <a href='vscode-notebook-cell:/c%3A/Users/nikgo/Documents/NSU/NLP/NLP_labs/lab_03/lab3.ipynb#X35sZmlsZQ%3D%3D?line=2'>3</a>\u001b[0m losses \u001b[39m=\u001b[39m []\n\u001b[0;32m      <a href='vscode-notebook-cell:/c%3A/Users/nikgo/Documents/NSU/NLP/NLP_labs/lab_03/lab3.ipynb#X35sZmlsZQ%3D%3D?line=4'>5</a>\u001b[0m correct_sum, total_sum \u001b[39m=\u001b[39m \u001b[39m0\u001b[39m, \u001b[39m0\u001b[39m\n\u001b[1;32m----> <a href='vscode-notebook-cell:/c%3A/Users/nikgo/Documents/NSU/NLP/NLP_labs/lab_03/lab3.ipynb#X35sZmlsZQ%3D%3D?line=6'>7</a>\u001b[0m \u001b[39mfor\u001b[39;00m inputs, labels, mask \u001b[39min\u001b[39;00m valid_data_loader:\n\u001b[0;32m      <a href='vscode-notebook-cell:/c%3A/Users/nikgo/Documents/NSU/NLP/NLP_labs/lab_03/lab3.ipynb#X35sZmlsZQ%3D%3D?line=7'>8</a>\u001b[0m     h \u001b[39m=\u001b[39m \u001b[39mtuple\u001b[39m([each\u001b[39m.\u001b[39mdata \u001b[39mfor\u001b[39;00m each \u001b[39min\u001b[39;00m h])\n\u001b[0;32m      <a href='vscode-notebook-cell:/c%3A/Users/nikgo/Documents/NSU/NLP/NLP_labs/lab_03/lab3.ipynb#X35sZmlsZQ%3D%3D?line=8'>9</a>\u001b[0m     \u001b[39m# отправим inputs, labels и mask на GPU\u001b[39;00m\n",
      "File \u001b[1;32mc:\\Users\\nikgo\\AppData\\Local\\Programs\\Python\\Python311\\Lib\\site-packages\\torch\\utils\\data\\dataloader.py:633\u001b[0m, in \u001b[0;36m_BaseDataLoaderIter.__next__\u001b[1;34m(self)\u001b[0m\n\u001b[0;32m    630\u001b[0m \u001b[39mif\u001b[39;00m \u001b[39mself\u001b[39m\u001b[39m.\u001b[39m_sampler_iter \u001b[39mis\u001b[39;00m \u001b[39mNone\u001b[39;00m:\n\u001b[0;32m    631\u001b[0m     \u001b[39m# TODO(https://github.com/pytorch/pytorch/issues/76750)\u001b[39;00m\n\u001b[0;32m    632\u001b[0m     \u001b[39mself\u001b[39m\u001b[39m.\u001b[39m_reset()  \u001b[39m# type: ignore[call-arg]\u001b[39;00m\n\u001b[1;32m--> 633\u001b[0m data \u001b[39m=\u001b[39m \u001b[39mself\u001b[39;49m\u001b[39m.\u001b[39;49m_next_data()\n\u001b[0;32m    634\u001b[0m \u001b[39mself\u001b[39m\u001b[39m.\u001b[39m_num_yielded \u001b[39m+\u001b[39m\u001b[39m=\u001b[39m \u001b[39m1\u001b[39m\n\u001b[0;32m    635\u001b[0m \u001b[39mif\u001b[39;00m \u001b[39mself\u001b[39m\u001b[39m.\u001b[39m_dataset_kind \u001b[39m==\u001b[39m _DatasetKind\u001b[39m.\u001b[39mIterable \u001b[39mand\u001b[39;00m \\\n\u001b[0;32m    636\u001b[0m         \u001b[39mself\u001b[39m\u001b[39m.\u001b[39m_IterableDataset_len_called \u001b[39mis\u001b[39;00m \u001b[39mnot\u001b[39;00m \u001b[39mNone\u001b[39;00m \u001b[39mand\u001b[39;00m \\\n\u001b[0;32m    637\u001b[0m         \u001b[39mself\u001b[39m\u001b[39m.\u001b[39m_num_yielded \u001b[39m>\u001b[39m \u001b[39mself\u001b[39m\u001b[39m.\u001b[39m_IterableDataset_len_called:\n",
      "File \u001b[1;32mc:\\Users\\nikgo\\AppData\\Local\\Programs\\Python\\Python311\\Lib\\site-packages\\torch\\utils\\data\\dataloader.py:677\u001b[0m, in \u001b[0;36m_SingleProcessDataLoaderIter._next_data\u001b[1;34m(self)\u001b[0m\n\u001b[0;32m    675\u001b[0m \u001b[39mdef\u001b[39;00m \u001b[39m_next_data\u001b[39m(\u001b[39mself\u001b[39m):\n\u001b[0;32m    676\u001b[0m     index \u001b[39m=\u001b[39m \u001b[39mself\u001b[39m\u001b[39m.\u001b[39m_next_index()  \u001b[39m# may raise StopIteration\u001b[39;00m\n\u001b[1;32m--> 677\u001b[0m     data \u001b[39m=\u001b[39m \u001b[39mself\u001b[39;49m\u001b[39m.\u001b[39;49m_dataset_fetcher\u001b[39m.\u001b[39;49mfetch(index)  \u001b[39m# may raise StopIteration\u001b[39;00m\n\u001b[0;32m    678\u001b[0m     \u001b[39mif\u001b[39;00m \u001b[39mself\u001b[39m\u001b[39m.\u001b[39m_pin_memory:\n\u001b[0;32m    679\u001b[0m         data \u001b[39m=\u001b[39m _utils\u001b[39m.\u001b[39mpin_memory\u001b[39m.\u001b[39mpin_memory(data, \u001b[39mself\u001b[39m\u001b[39m.\u001b[39m_pin_memory_device)\n",
      "File \u001b[1;32mc:\\Users\\nikgo\\AppData\\Local\\Programs\\Python\\Python311\\Lib\\site-packages\\torch\\utils\\data\\_utils\\fetch.py:51\u001b[0m, in \u001b[0;36m_MapDatasetFetcher.fetch\u001b[1;34m(self, possibly_batched_index)\u001b[0m\n\u001b[0;32m     49\u001b[0m         data \u001b[39m=\u001b[39m \u001b[39mself\u001b[39m\u001b[39m.\u001b[39mdataset\u001b[39m.\u001b[39m__getitems__(possibly_batched_index)\n\u001b[0;32m     50\u001b[0m     \u001b[39melse\u001b[39;00m:\n\u001b[1;32m---> 51\u001b[0m         data \u001b[39m=\u001b[39m [\u001b[39mself\u001b[39;49m\u001b[39m.\u001b[39;49mdataset[idx] \u001b[39mfor\u001b[39;49;00m idx \u001b[39min\u001b[39;49;00m possibly_batched_index]\n\u001b[0;32m     52\u001b[0m \u001b[39melse\u001b[39;00m:\n\u001b[0;32m     53\u001b[0m     data \u001b[39m=\u001b[39m \u001b[39mself\u001b[39m\u001b[39m.\u001b[39mdataset[possibly_batched_index]\n",
      "File \u001b[1;32mc:\\Users\\nikgo\\AppData\\Local\\Programs\\Python\\Python311\\Lib\\site-packages\\torch\\utils\\data\\_utils\\fetch.py:51\u001b[0m, in \u001b[0;36m<listcomp>\u001b[1;34m(.0)\u001b[0m\n\u001b[0;32m     49\u001b[0m         data \u001b[39m=\u001b[39m \u001b[39mself\u001b[39m\u001b[39m.\u001b[39mdataset\u001b[39m.\u001b[39m__getitems__(possibly_batched_index)\n\u001b[0;32m     50\u001b[0m     \u001b[39melse\u001b[39;00m:\n\u001b[1;32m---> 51\u001b[0m         data \u001b[39m=\u001b[39m [\u001b[39mself\u001b[39;49m\u001b[39m.\u001b[39;49mdataset[idx] \u001b[39mfor\u001b[39;00m idx \u001b[39min\u001b[39;00m possibly_batched_index]\n\u001b[0;32m     52\u001b[0m \u001b[39melse\u001b[39;00m:\n\u001b[0;32m     53\u001b[0m     data \u001b[39m=\u001b[39m \u001b[39mself\u001b[39m\u001b[39m.\u001b[39mdataset[possibly_batched_index]\n",
      "\u001b[1;32mc:\\Users\\nikgo\\Documents\\NSU\\NLP\\NLP_labs\\lab_03\\lab3.ipynb Cell 27\u001b[0m line \u001b[0;36m1\n\u001b[0;32m     <a href='vscode-notebook-cell:/c%3A/Users/nikgo/Documents/NSU/NLP/NLP_labs/lab_03/lab3.ipynb#X35sZmlsZQ%3D%3D?line=10'>11</a>\u001b[0m         tags \u001b[39m=\u001b[39m np\u001b[39m.\u001b[39marray(\u001b[39mself\u001b[39m\u001b[39m.\u001b[39mtags[item])\n\u001b[0;32m     <a href='vscode-notebook-cell:/c%3A/Users/nikgo/Documents/NSU/NLP/NLP_labs/lab_03/lab3.ipynb#X35sZmlsZQ%3D%3D?line=12'>13</a>\u001b[0m         \u001b[39m# ids = [fasttext_model.wv[s] for s in text]\u001b[39;00m\n\u001b[1;32m---> <a href='vscode-notebook-cell:/c%3A/Users/nikgo/Documents/NSU/NLP/NLP_labs/lab_03/lab3.ipynb#X35sZmlsZQ%3D%3D?line=13'>14</a>\u001b[0m         ids \u001b[39m=\u001b[39m [fasttext_model[s] \u001b[39mfor\u001b[39;49;00m s \u001b[39min\u001b[39;49;00m text]\n\u001b[0;32m     <a href='vscode-notebook-cell:/c%3A/Users/nikgo/Documents/NSU/NLP/NLP_labs/lab_03/lab3.ipynb#X35sZmlsZQ%3D%3D?line=15'>16</a>\u001b[0m \u001b[39m# реализуем паддинг: если текст меньше MAX_LEN, \u001b[39;00m\n\u001b[0;32m     <a href='vscode-notebook-cell:/c%3A/Users/nikgo/Documents/NSU/NLP/NLP_labs/lab_03/lab3.ipynb#X35sZmlsZQ%3D%3D?line=16'>17</a>\u001b[0m \u001b[39m# забиваем матрицу нулями так, чтобы матрицы были одинакового размера для каждого текста   \u001b[39;00m\n\u001b[0;32m     <a href='vscode-notebook-cell:/c%3A/Users/nikgo/Documents/NSU/NLP/NLP_labs/lab_03/lab3.ipynb#X35sZmlsZQ%3D%3D?line=17'>18</a>\u001b[0m \u001b[39m# возвращаем матрицу с нулями, список тегов с нулями, и маску -- разметку, какие элементы \u001b[39;00m\n\u001b[0;32m     <a href='vscode-notebook-cell:/c%3A/Users/nikgo/Documents/NSU/NLP/NLP_labs/lab_03/lab3.ipynb#X35sZmlsZQ%3D%3D?line=18'>19</a>\u001b[0m \u001b[39m# являются словами, а какие -- пустые поля (нули). Маска нужна, чтобы правильно считать лосс\u001b[39;00m\n\u001b[0;32m     <a href='vscode-notebook-cell:/c%3A/Users/nikgo/Documents/NSU/NLP/NLP_labs/lab_03/lab3.ipynb#X35sZmlsZQ%3D%3D?line=19'>20</a>\u001b[0m \u001b[39m# то есть, не учитывать в нем \"пустые\" части с нулями\u001b[39;00m\n\u001b[0;32m     <a href='vscode-notebook-cell:/c%3A/Users/nikgo/Documents/NSU/NLP/NLP_labs/lab_03/lab3.ipynb#X35sZmlsZQ%3D%3D?line=21'>22</a>\u001b[0m         \u001b[39mif\u001b[39;00m \u001b[39mlen\u001b[39m(ids) \u001b[39m<\u001b[39m MAX_LEN:\n",
      "\u001b[1;32mc:\\Users\\nikgo\\Documents\\NSU\\NLP\\NLP_labs\\lab_03\\lab3.ipynb Cell 27\u001b[0m line \u001b[0;36m1\n\u001b[0;32m     <a href='vscode-notebook-cell:/c%3A/Users/nikgo/Documents/NSU/NLP/NLP_labs/lab_03/lab3.ipynb#X35sZmlsZQ%3D%3D?line=10'>11</a>\u001b[0m         tags \u001b[39m=\u001b[39m np\u001b[39m.\u001b[39marray(\u001b[39mself\u001b[39m\u001b[39m.\u001b[39mtags[item])\n\u001b[0;32m     <a href='vscode-notebook-cell:/c%3A/Users/nikgo/Documents/NSU/NLP/NLP_labs/lab_03/lab3.ipynb#X35sZmlsZQ%3D%3D?line=12'>13</a>\u001b[0m         \u001b[39m# ids = [fasttext_model.wv[s] for s in text]\u001b[39;00m\n\u001b[1;32m---> <a href='vscode-notebook-cell:/c%3A/Users/nikgo/Documents/NSU/NLP/NLP_labs/lab_03/lab3.ipynb#X35sZmlsZQ%3D%3D?line=13'>14</a>\u001b[0m         ids \u001b[39m=\u001b[39m [fasttext_model[s] \u001b[39mfor\u001b[39;00m s \u001b[39min\u001b[39;00m text]\n\u001b[0;32m     <a href='vscode-notebook-cell:/c%3A/Users/nikgo/Documents/NSU/NLP/NLP_labs/lab_03/lab3.ipynb#X35sZmlsZQ%3D%3D?line=15'>16</a>\u001b[0m \u001b[39m# реализуем паддинг: если текст меньше MAX_LEN, \u001b[39;00m\n\u001b[0;32m     <a href='vscode-notebook-cell:/c%3A/Users/nikgo/Documents/NSU/NLP/NLP_labs/lab_03/lab3.ipynb#X35sZmlsZQ%3D%3D?line=16'>17</a>\u001b[0m \u001b[39m# забиваем матрицу нулями так, чтобы матрицы были одинакового размера для каждого текста   \u001b[39;00m\n\u001b[0;32m     <a href='vscode-notebook-cell:/c%3A/Users/nikgo/Documents/NSU/NLP/NLP_labs/lab_03/lab3.ipynb#X35sZmlsZQ%3D%3D?line=17'>18</a>\u001b[0m \u001b[39m# возвращаем матрицу с нулями, список тегов с нулями, и маску -- разметку, какие элементы \u001b[39;00m\n\u001b[0;32m     <a href='vscode-notebook-cell:/c%3A/Users/nikgo/Documents/NSU/NLP/NLP_labs/lab_03/lab3.ipynb#X35sZmlsZQ%3D%3D?line=18'>19</a>\u001b[0m \u001b[39m# являются словами, а какие -- пустые поля (нули). Маска нужна, чтобы правильно считать лосс\u001b[39;00m\n\u001b[0;32m     <a href='vscode-notebook-cell:/c%3A/Users/nikgo/Documents/NSU/NLP/NLP_labs/lab_03/lab3.ipynb#X35sZmlsZQ%3D%3D?line=19'>20</a>\u001b[0m \u001b[39m# то есть, не учитывать в нем \"пустые\" части с нулями\u001b[39;00m\n\u001b[0;32m     <a href='vscode-notebook-cell:/c%3A/Users/nikgo/Documents/NSU/NLP/NLP_labs/lab_03/lab3.ipynb#X35sZmlsZQ%3D%3D?line=21'>22</a>\u001b[0m         \u001b[39mif\u001b[39;00m \u001b[39mlen\u001b[39m(ids) \u001b[39m<\u001b[39m MAX_LEN:\n",
      "File \u001b[1;32mc:\\Users\\nikgo\\AppData\\Local\\Programs\\Python\\Python311\\Lib\\site-packages\\gensim\\models\\keyedvectors.py:405\u001b[0m, in \u001b[0;36mKeyedVectors.__getitem__\u001b[1;34m(self, key_or_keys)\u001b[0m\n\u001b[0;32m    402\u001b[0m \u001b[39mif\u001b[39;00m \u001b[39misinstance\u001b[39m(key_or_keys, _KEY_TYPES):\n\u001b[0;32m    403\u001b[0m     \u001b[39mreturn\u001b[39;00m \u001b[39mself\u001b[39m\u001b[39m.\u001b[39mget_vector(key_or_keys)\n\u001b[1;32m--> 405\u001b[0m \u001b[39mreturn\u001b[39;00m vstack([\u001b[39mself\u001b[39m\u001b[39m.\u001b[39mget_vector(key) \u001b[39mfor\u001b[39;00m key \u001b[39min\u001b[39;00m key_or_keys])\n",
      "\u001b[1;31mTypeError\u001b[0m: 'float' object is not iterable"
     ]
    }
   ],
   "source": [
    "counter = 0\n",
    "print_every = 10\n",
    "clip = 5\n",
    "valid_loss_min = np.Inf\n",
    "writer = SummaryWriter('logs')\n",
    "\n",
    "\n",
    "model.train()\n",
    "for i in range(EPOCHS):\n",
    "    h = model.init_hidden(TRAIN_BATCH_SIZE)\n",
    "    \n",
    "    correct_sum, total_sum = 0, 0\n",
    "    \n",
    "    for inputs, labels, mask in tqdm(train_data_loader): #\n",
    "        counter += 1\n",
    "        h = tuple([e.data for e in h])\n",
    "\n",
    "        inputs = inputs.to(device)\n",
    "        labels = labels.to(device)\n",
    "        mask = mask.to(device)\n",
    "        model.zero_grad()\n",
    "        output, h = model(inputs, h)\n",
    "        loss = loss_fn(output, labels.flatten(), mask, num_tag) # вызываем функцию для подсчета лосса\n",
    "        loss.backward() # и делаем обратное распространение ошибки\n",
    "        correct, total = acc_stat(torch.argmax(output, dim=-1).flatten(), labels.flatten(), mask.flatten()) # вызываем функцию acc_stat\n",
    "        correct_sum += correct\n",
    "        total_sum += total\n",
    "\n",
    "        nn.utils.clip_grad_norm_(model.parameters(), clip)\n",
    "        optimizer.step() # градиентный спуск\n",
    "        \n",
    "        if counter % print_every == 0:\n",
    "            model.eval()\n",
    "            val_losses, val_acc = eval_model(model, valid_data_loader)\n",
    "            model.train()\n",
    "            \n",
    "            val_loss = np.mean(val_losses)\n",
    "            writer.add_scalar('train/loss', loss.item(), counter)\n",
    "            writer.add_scalar('val/loss', val_loss, counter)\n",
    "            writer.add_scalar('train/acc', correct_sum / total_sum, counter)\n",
    "            writer.add_scalar('val/acc', val_acc, counter)\n",
    "\n",
    "            print(\"Epoch: {}/{}...\".format(i+1, EPOCHS),\n",
    "                  \"Step: {}...\".format(counter),\n",
    "                  \"Loss: {:.6f}...\".format(loss.item()),\n",
    "                  \"Val Loss: {:.6f}\".format(val_loss),\n",
    "                  \"Train Acc: {:.6f}\".format(correct_sum / total_sum),\n",
    "                  \"Val Acc: {:.6f}\".format(val_acc))\n",
    "                \n",
    "            if np.mean(val_losses) <= valid_loss_min:\n",
    "                torch.save(model.state_dict(), MODEL_PATH)\n",
    "                print('Validation loss decreased ({:.6f} --> {:.6f}).  Saving model ...'.format(valid_loss_min,np.mean(val_losses)))\n",
    "                valid_loss_min = np.mean(val_losses)"
   ]
  },
  {
   "cell_type": "markdown",
   "metadata": {},
   "source": [
    "## Inference"
   ]
  },
  {
   "cell_type": "code",
   "execution_count": null,
   "metadata": {},
   "outputs": [
    {
     "name": "stderr",
     "output_type": "stream",
     "text": [
      "C:\\Temp\\ipykernel_13004\\1332789944.py:16: UserWarning: Creating a tensor from a list of numpy.ndarrays is extremely slow. Please consider converting the list to a single numpy.ndarray with numpy.array() before converting to a tensor. (Triggered internally at ..\\torch\\csrc\\utils\\tensor_new.cpp:248.)\n",
      "  inputs = torch.tensor([fasttext_model[s] for s in word_tokenize(text)], dtype=torch.float32)\n"
     ]
    },
    {
     "name": "stdout",
     "output_type": "stream",
     "text": [
      "num_directions 1\n",
      "['B-per' 'O' 'O' 'O' 'B-geo' 'I-geo']\n"
     ]
    }
   ],
   "source": [
    "meta_data = joblib.load(\"meta.bin\")\n",
    "enc_tag = meta_data[\"enc_tag\"]\n",
    "\n",
    "num_tag = len(list(enc_tag.classes_))\n",
    "\n",
    "text = \"\"\"\n",
    "Natasha is traveling to New York\n",
    "\"\"\"\n",
    "\n",
    "device = torch.device(\"cuda\")\n",
    "model.to(device)\n",
    "\n",
    "# так как это инференс, выключаем расчет градиентов:\n",
    "with torch.no_grad():\n",
    "    # inputs = torch.tensor([fasttext_model.wv[s] for s in word_tokenize(text)], dtype=torch.float32)\n",
    "    inputs = torch.tensor([fasttext_model[s] for s in word_tokenize(text)], dtype=torch.float32)\n",
    "    inputs = inputs.unsqueeze(0).to(device)\n",
    "    h = model.init_hidden(1)\n",
    "    tag, h = model(inputs, h)\n",
    "\n",
    "    print(\n",
    "        enc_tag.inverse_transform(\n",
    "            tag.argmax(-1).cpu().numpy().reshape(-1)\n",
    "        )\n",
    "    )"
   ]
  },
  {
   "cell_type": "code",
   "execution_count": null,
   "metadata": {},
   "outputs": [],
   "source": []
  }
 ],
 "metadata": {
  "kernelspec": {
   "display_name": "Python 3",
   "language": "python",
   "name": "python3"
  },
  "language_info": {
   "codemirror_mode": {
    "name": "ipython",
    "version": 3
   },
   "file_extension": ".py",
   "mimetype": "text/x-python",
   "name": "python",
   "nbconvert_exporter": "python",
   "pygments_lexer": "ipython3",
   "version": "3.11.3"
  }
 },
 "nbformat": 4,
 "nbformat_minor": 4
}
