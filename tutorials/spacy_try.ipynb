{
 "cells": [
  {
   "cell_type": "code",
   "execution_count": 4,
   "metadata": {},
   "outputs": [],
   "source": [
    "import numpy as np\n",
    "import pandas as pd\n",
    "\n",
    "import spacy"
   ]
  },
  {
   "cell_type": "code",
   "execution_count": 9,
   "metadata": {},
   "outputs": [
    {
     "name": "stdout",
     "output_type": "stream",
     "text": [
      "<class 'spacy.tokens.doc.Doc'>\n",
      "spaCy is an amazing tool for natural language processing. I'm sure about it\n",
      "spaCy\n",
      "is\n",
      "an\n",
      "amazing\n",
      "tool\n",
      "for\n",
      "natural\n",
      "language\n",
      "processing\n",
      ".\n",
      "I\n",
      "'m\n",
      "sure\n",
      "about\n",
      "it\n"
     ]
    }
   ],
   "source": [
    "# Загружаем языковую модель\n",
    "nlp = spacy.load(\"en_core_web_sm\")\n",
    "# Входной текст\n",
    "text = \"spaCy is an amazing tool for natural language processing. I'm sure about it\"\n",
    "# Применяем токенизацию\n",
    "doc = nlp(text)\n",
    "\n",
    "print(type(doc))\n",
    "print(doc)\n",
    "# Выводим токены (слова и пунктуацию) из текста\n",
    "for token in doc:\n",
    "    print(token.text)"
   ]
  },
  {
   "cell_type": "code",
   "execution_count": 10,
   "metadata": {},
   "outputs": [
    {
     "name": "stdout",
     "output_type": "stream",
     "text": [
      "spaCy is an amazing tool for natural language processing.\n",
      "I'm sure about it\n"
     ]
    }
   ],
   "source": [
    "# Выводим предложения из текста\n",
    "for sentence in doc.sents:\n",
    "    print(sentence.text)"
   ]
  },
  {
   "cell_type": "code",
   "execution_count": null,
   "metadata": {},
   "outputs": [],
   "source": []
  }
 ],
 "metadata": {
  "kernelspec": {
   "display_name": "Python 3",
   "language": "python",
   "name": "python3"
  },
  "language_info": {
   "codemirror_mode": {
    "name": "ipython",
    "version": 3
   },
   "file_extension": ".py",
   "mimetype": "text/x-python",
   "name": "python",
   "nbconvert_exporter": "python",
   "pygments_lexer": "ipython3",
   "version": "3.11.3"
  }
 },
 "nbformat": 4,
 "nbformat_minor": 2
}
