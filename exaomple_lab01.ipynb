{
 "cells": [
  {
   "cell_type": "code",
   "execution_count": 1,
   "id": "8e9dbb5d",
   "metadata": {},
   "outputs": [],
   "source": [
    "import pandas as pd\n",
    "import pymorphy2\n",
    "\n",
    "from tqdm import tqdm\n",
    "tqdm.pandas()\n",
    "\n",
    "from nltk.tokenize import word_tokenize \n",
    "import re\n",
    "\n",
    "from sklearn.feature_extraction.text import TfidfVectorizer\n",
    "from sklearn.linear_model import LogisticRegression\n",
    "from sklearn.model_selection import train_test_split\n",
    "from sklearn.metrics import accuracy_score, roc_auc_score\n",
    "from sklearn.model_selection import GridSearchCV\n",
    "# import eli5"
   ]
  },
  {
   "cell_type": "code",
   "execution_count": 2,
   "id": "89ac556b",
   "metadata": {},
   "outputs": [],
   "source": [
    "df = pd.read_csv('rureviews/women-clothing-accessories.3-class.balanced.csv', encoding=\"utf8\", sep='\\t')"
   ]
  },
  {
   "cell_type": "code",
   "execution_count": 3,
   "id": "0d2524cb",
   "metadata": {},
   "outputs": [
    {
     "data": {
      "text/plain": [
       "positive    30000\n",
       "neautral    30000\n",
       "negative    30000\n",
       "Name: sentiment, dtype: int64"
      ]
     },
     "execution_count": 3,
     "metadata": {},
     "output_type": "execute_result"
    }
   ],
   "source": [
    "df['sentiment'].value_counts()"
   ]
  },
  {
   "cell_type": "code",
   "execution_count": 4,
   "id": "d5c85912",
   "metadata": {},
   "outputs": [],
   "source": [
    "df = df[df['sentiment'] != 'neautral']"
   ]
  },
  {
   "cell_type": "code",
   "execution_count": 5,
   "id": "ddeb7385",
   "metadata": {},
   "outputs": [
    {
     "data": {
      "text/plain": [
       "'качество плохое пошив ужасный (горловина наперекос) Фото не соответствует Ткань ужасная рисунок блеклый маленький рукав не такой УЖАС!!!!! не стоит за такие деньги г.......'"
      ]
     },
     "execution_count": 5,
     "metadata": {},
     "output_type": "execute_result"
    }
   ],
   "source": [
    "df.iloc[0]['review']"
   ]
  },
  {
   "cell_type": "code",
   "execution_count": 6,
   "id": "9678581e",
   "metadata": {},
   "outputs": [],
   "source": [
    "# убрали знаки препинания\n",
    "df['review_processed'] = df['review'].apply(lambda x: re.sub(r'[^\\w\\s]', '', x)).values"
   ]
  },
  {
   "cell_type": "code",
   "execution_count": 7,
   "id": "a851391e",
   "metadata": {},
   "outputs": [],
   "source": [
    "df['review_processed'] = df['review_processed'].apply(lambda x: x.lower())"
   ]
  },
  {
   "cell_type": "code",
   "execution_count": 8,
   "id": "4a9d6878",
   "metadata": {},
   "outputs": [
    {
     "name": "stderr",
     "output_type": "stream",
     "text": [
      "100%|██████████| 60000/60000 [00:06<00:00, 9879.70it/s] \n"
     ]
    }
   ],
   "source": [
    "df['review_processed'] = df['review_processed'].progress_apply(lambda x: word_tokenize(x))"
   ]
  },
  {
   "cell_type": "code",
   "execution_count": 9,
   "id": "3399c588",
   "metadata": {},
   "outputs": [
    {
     "data": {
      "text/plain": [
       "['качество',\n",
       " 'плохое',\n",
       " 'пошив',\n",
       " 'ужасный',\n",
       " 'горловина',\n",
       " 'наперекос',\n",
       " 'фото',\n",
       " 'не',\n",
       " 'соответствует',\n",
       " 'ткань',\n",
       " 'ужасная',\n",
       " 'рисунок',\n",
       " 'блеклый',\n",
       " 'маленький',\n",
       " 'рукав',\n",
       " 'не',\n",
       " 'такой',\n",
       " 'ужас',\n",
       " 'не',\n",
       " 'стоит',\n",
       " 'за',\n",
       " 'такие',\n",
       " 'деньги',\n",
       " 'г']"
      ]
     },
     "execution_count": 9,
     "metadata": {},
     "output_type": "execute_result"
    }
   ],
   "source": [
    "df['review_processed'].iloc[0]"
   ]
  },
  {
   "cell_type": "code",
   "execution_count": 10,
   "id": "9546bff2",
   "metadata": {},
   "outputs": [],
   "source": [
    "morph = pymorphy2.MorphAnalyzer()"
   ]
  },
  {
   "cell_type": "code",
   "execution_count": 11,
   "id": "d9adcc12",
   "metadata": {},
   "outputs": [
    {
     "data": {
      "text/plain": [
       "'сделать'"
      ]
     },
     "execution_count": 11,
     "metadata": {},
     "output_type": "execute_result"
    }
   ],
   "source": [
    "morph.parse(\"сделали\")[0].normal_form"
   ]
  },
  {
   "cell_type": "code",
   "execution_count": 12,
   "id": "c5aaf800",
   "metadata": {},
   "outputs": [
    {
     "name": "stderr",
     "output_type": "stream",
     "text": [
      "100%|██████████| 60000/60000 [02:18<00:00, 433.28it/s]\n"
     ]
    }
   ],
   "source": [
    "df['review_lemmatized'] = df['review_processed'].progress_apply(lambda x: [morph.parse(w)[0].normal_form for w in x])"
   ]
  },
  {
   "cell_type": "code",
   "execution_count": 13,
   "id": "03cfe87d",
   "metadata": {},
   "outputs": [],
   "source": [
    "vectorizer = TfidfVectorizer(ngram_range=(1, 1)) "
   ]
  },
  {
   "cell_type": "code",
   "execution_count": 14,
   "id": "690438c1",
   "metadata": {},
   "outputs": [],
   "source": [
    "X = vectorizer.fit_transform(df['review_lemmatized'].apply(lambda x: ' '.join(x)))"
   ]
  },
  {
   "cell_type": "code",
   "execution_count": 15,
   "id": "cfab3b66",
   "metadata": {},
   "outputs": [
    {
     "data": {
      "text/plain": [
       "(60000, 51549)"
      ]
     },
     "execution_count": 15,
     "metadata": {},
     "output_type": "execute_result"
    }
   ],
   "source": [
    "X.shape"
   ]
  },
  {
   "cell_type": "code",
   "execution_count": 16,
   "id": "cca0aa83",
   "metadata": {},
   "outputs": [],
   "source": [
    "X_train, X_test, y_train, y_test = train_test_split(\n",
    "    X, df['sentiment'], test_size=0.3, random_state=42\n",
    ")"
   ]
  },
  {
   "cell_type": "markdown",
   "metadata": {},
   "source": [
    "1. train_test_split <br> 2. LogisticRegression <br> 3. fit & predict <br> 4. roc_auc_score"
   ]
  },
  {
   "cell_type": "code",
   "execution_count": 17,
   "id": "76948e51",
   "metadata": {},
   "outputs": [],
   "source": [
    "logit = LogisticRegression()"
   ]
  },
  {
   "cell_type": "code",
   "execution_count": 18,
   "id": "b52cf26b",
   "metadata": {},
   "outputs": [
    {
     "data": {
      "text/plain": [
       "LogisticRegression()"
      ]
     },
     "execution_count": 18,
     "metadata": {},
     "output_type": "execute_result"
    }
   ],
   "source": [
    "logit.fit(X_train, y_train)"
   ]
  },
  {
   "cell_type": "code",
   "execution_count": 19,
   "id": "d7eca963",
   "metadata": {},
   "outputs": [],
   "source": [
    "y_pred = logit.predict_proba(X_test)[:, 1]"
   ]
  },
  {
   "cell_type": "code",
   "execution_count": 20,
   "id": "0262e309",
   "metadata": {},
   "outputs": [
    {
     "data": {
      "text/plain": [
       "0.9735222897024753"
      ]
     },
     "execution_count": 20,
     "metadata": {},
     "output_type": "execute_result"
    }
   ],
   "source": [
    "roc_auc_score(y_test, y_pred)"
   ]
  }
 ],
 "metadata": {
  "kernelspec": {
   "display_name": "Python 3",
   "language": "python",
   "name": "python3"
  },
  "language_info": {
   "codemirror_mode": {
    "name": "ipython",
    "version": 3
   },
   "file_extension": ".py",
   "mimetype": "text/x-python",
   "name": "python",
   "nbconvert_exporter": "python",
   "pygments_lexer": "ipython3",
   "version": "3.6.9"
  }
 },
 "nbformat": 4,
 "nbformat_minor": 5
}
